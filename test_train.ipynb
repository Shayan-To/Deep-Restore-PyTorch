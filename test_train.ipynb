{
 "cells": [
  {
   "cell_type": "code",
   "execution_count": 1,
   "metadata": {},
   "outputs": [],
   "source": [
    "from train_utils import Train"
   ]
  },
  {
   "cell_type": "code",
   "execution_count": 2,
   "metadata": {},
   "outputs": [],
   "source": [
    "from model import SRResnet"
   ]
  },
  {
   "cell_type": "code",
   "execution_count": 3,
   "metadata": {},
   "outputs": [],
   "source": [
    "architecture = SRResnet(3, 64)"
   ]
  },
  {
   "cell_type": "code",
   "execution_count": 4,
   "metadata": {},
   "outputs": [],
   "source": [
    "params = {\n",
    "    'noise_model': ('gaussian', 25),\n",
    "    'crop_size': 64,\n",
    "    'clean_targs': False,\n",
    "    'lr': 0.001,\n",
    "    'epochs': 100,\n",
    "    'bs': 10,\n",
    "    'lossfn': 'l2'\n",
    "}"
   ]
  },
  {
   "cell_type": "code",
   "execution_count": 5,
   "metadata": {},
   "outputs": [],
   "source": [
    "trainer = Train(architecture, 'dataset/train', 'dataset/valid', params)"
   ]
  },
  {
   "cell_type": "code",
   "execution_count": 6,
   "metadata": {
    "scrolled": true
   },
   "outputs": [
    {
     "name": "stderr",
     "output_type": "stream",
     "text": [
      "100%|██████████| 30/30 [00:12<00:00,  2.37it/s]\n",
      "  0%|          | 0/30 [00:00<?, ?it/s]"
     ]
    },
    {
     "name": "stdout",
     "output_type": "stream",
     "text": [
      "Training loss = \n",
      " 1.3403\n",
      "[torch.cuda.FloatTensor of size 1 (GPU 0)]\n",
      ", Validation loss = \n",
      "1.00000e-02 *\n",
      "  7.3348\n",
      "[torch.cuda.FloatTensor of size 1 (GPU 0)]\n",
      "\n"
     ]
    },
    {
     "name": "stderr",
     "output_type": "stream",
     "text": [
      "100%|██████████| 30/30 [00:12<00:00,  2.47it/s]\n",
      "  0%|          | 0/30 [00:00<?, ?it/s]"
     ]
    },
    {
     "name": "stdout",
     "output_type": "stream",
     "text": [
      "Training loss = \n",
      " 0.2801\n",
      "[torch.cuda.FloatTensor of size 1 (GPU 0)]\n",
      ", Validation loss = \n",
      "1.00000e-02 *\n",
      "  3.4831\n",
      "[torch.cuda.FloatTensor of size 1 (GPU 0)]\n",
      "\n"
     ]
    },
    {
     "name": "stderr",
     "output_type": "stream",
     "text": [
      "100%|██████████| 30/30 [00:12<00:00,  2.47it/s]\n",
      "  0%|          | 0/30 [00:00<?, ?it/s]"
     ]
    },
    {
     "name": "stdout",
     "output_type": "stream",
     "text": [
      "Training loss = \n",
      " 0.2029\n",
      "[torch.cuda.FloatTensor of size 1 (GPU 0)]\n",
      ", Validation loss = \n",
      "1.00000e-02 *\n",
      "  3.0376\n",
      "[torch.cuda.FloatTensor of size 1 (GPU 0)]\n",
      "\n"
     ]
    },
    {
     "name": "stderr",
     "output_type": "stream",
     "text": [
      "100%|██████████| 30/30 [00:12<00:00,  2.47it/s]\n",
      "  0%|          | 0/30 [00:00<?, ?it/s]"
     ]
    },
    {
     "name": "stdout",
     "output_type": "stream",
     "text": [
      "Training loss = \n",
      " 0.1847\n",
      "[torch.cuda.FloatTensor of size 1 (GPU 0)]\n",
      ", Validation loss = \n",
      "1.00000e-02 *\n",
      "  2.7160\n",
      "[torch.cuda.FloatTensor of size 1 (GPU 0)]\n",
      "\n"
     ]
    },
    {
     "name": "stderr",
     "output_type": "stream",
     "text": [
      "100%|██████████| 30/30 [00:12<00:00,  2.48it/s]\n",
      "  0%|          | 0/30 [00:00<?, ?it/s]"
     ]
    },
    {
     "name": "stdout",
     "output_type": "stream",
     "text": [
      "Training loss = \n",
      " 0.1834\n",
      "[torch.cuda.FloatTensor of size 1 (GPU 0)]\n",
      ", Validation loss = \n",
      "1.00000e-02 *\n",
      "  1.8900\n",
      "[torch.cuda.FloatTensor of size 1 (GPU 0)]\n",
      "\n"
     ]
    },
    {
     "name": "stderr",
     "output_type": "stream",
     "text": [
      "100%|██████████| 30/30 [00:12<00:00,  2.46it/s]\n",
      "  0%|          | 0/30 [00:00<?, ?it/s]"
     ]
    },
    {
     "name": "stdout",
     "output_type": "stream",
     "text": [
      "Training loss = \n",
      " 0.1671\n",
      "[torch.cuda.FloatTensor of size 1 (GPU 0)]\n",
      ", Validation loss = \n",
      "1.00000e-02 *\n",
      "  2.7319\n",
      "[torch.cuda.FloatTensor of size 1 (GPU 0)]\n",
      "\n"
     ]
    },
    {
     "name": "stderr",
     "output_type": "stream",
     "text": [
      "100%|██████████| 30/30 [00:12<00:00,  2.47it/s]\n",
      "  0%|          | 0/30 [00:00<?, ?it/s]"
     ]
    },
    {
     "name": "stdout",
     "output_type": "stream",
     "text": [
      "Training loss = \n",
      " 0.1580\n",
      "[torch.cuda.FloatTensor of size 1 (GPU 0)]\n",
      ", Validation loss = \n",
      "1.00000e-02 *\n",
      "  2.0718\n",
      "[torch.cuda.FloatTensor of size 1 (GPU 0)]\n",
      "\n"
     ]
    },
    {
     "name": "stderr",
     "output_type": "stream",
     "text": [
      "100%|██████████| 30/30 [00:12<00:00,  2.47it/s]\n",
      "  0%|          | 0/30 [00:00<?, ?it/s]"
     ]
    },
    {
     "name": "stdout",
     "output_type": "stream",
     "text": [
      "Training loss = \n",
      " 0.1450\n",
      "[torch.cuda.FloatTensor of size 1 (GPU 0)]\n",
      ", Validation loss = \n",
      "1.00000e-02 *\n",
      "  2.2022\n",
      "[torch.cuda.FloatTensor of size 1 (GPU 0)]\n",
      "\n"
     ]
    },
    {
     "name": "stderr",
     "output_type": "stream",
     "text": [
      "100%|██████████| 30/30 [00:12<00:00,  2.47it/s]\n",
      "  0%|          | 0/30 [00:00<?, ?it/s]"
     ]
    },
    {
     "name": "stdout",
     "output_type": "stream",
     "text": [
      "Training loss = \n",
      " 0.1340\n",
      "[torch.cuda.FloatTensor of size 1 (GPU 0)]\n",
      ", Validation loss = \n",
      "1.00000e-02 *\n",
      "  2.0569\n",
      "[torch.cuda.FloatTensor of size 1 (GPU 0)]\n",
      "\n"
     ]
    },
    {
     "name": "stderr",
     "output_type": "stream",
     "text": [
      "100%|██████████| 30/30 [00:12<00:00,  2.47it/s]\n",
      "  0%|          | 0/30 [00:00<?, ?it/s]"
     ]
    },
    {
     "name": "stdout",
     "output_type": "stream",
     "text": [
      "Training loss = \n",
      " 0.1320\n",
      "[torch.cuda.FloatTensor of size 1 (GPU 0)]\n",
      ", Validation loss = \n",
      "1.00000e-02 *\n",
      "  1.9314\n",
      "[torch.cuda.FloatTensor of size 1 (GPU 0)]\n",
      "\n"
     ]
    },
    {
     "name": "stderr",
     "output_type": "stream",
     "text": [
      "100%|██████████| 30/30 [00:12<00:00,  2.47it/s]\n",
      "  0%|          | 0/30 [00:00<?, ?it/s]"
     ]
    },
    {
     "name": "stdout",
     "output_type": "stream",
     "text": [
      "Training loss = \n",
      " 0.1381\n",
      "[torch.cuda.FloatTensor of size 1 (GPU 0)]\n",
      ", Validation loss = \n",
      "1.00000e-02 *\n",
      "  1.2250\n",
      "[torch.cuda.FloatTensor of size 1 (GPU 0)]\n",
      "\n"
     ]
    },
    {
     "name": "stderr",
     "output_type": "stream",
     "text": [
      "100%|██████████| 30/30 [00:12<00:00,  2.47it/s]\n",
      "  0%|          | 0/30 [00:00<?, ?it/s]"
     ]
    },
    {
     "name": "stdout",
     "output_type": "stream",
     "text": [
      "Training loss = \n",
      " 0.1267\n",
      "[torch.cuda.FloatTensor of size 1 (GPU 0)]\n",
      ", Validation loss = \n",
      "1.00000e-02 *\n",
      "  1.4330\n",
      "[torch.cuda.FloatTensor of size 1 (GPU 0)]\n",
      "\n"
     ]
    },
    {
     "name": "stderr",
     "output_type": "stream",
     "text": [
      "100%|██████████| 30/30 [00:12<00:00,  2.47it/s]\n",
      "  0%|          | 0/30 [00:00<?, ?it/s]"
     ]
    },
    {
     "name": "stdout",
     "output_type": "stream",
     "text": [
      "Training loss = \n",
      " 0.1294\n",
      "[torch.cuda.FloatTensor of size 1 (GPU 0)]\n",
      ", Validation loss = \n",
      "1.00000e-02 *\n",
      "  1.4435\n",
      "[torch.cuda.FloatTensor of size 1 (GPU 0)]\n",
      "\n"
     ]
    },
    {
     "name": "stderr",
     "output_type": "stream",
     "text": [
      "100%|██████████| 30/30 [00:12<00:00,  2.47it/s]\n",
      "  0%|          | 0/30 [00:00<?, ?it/s]"
     ]
    },
    {
     "name": "stdout",
     "output_type": "stream",
     "text": [
      "Training loss = \n",
      " 0.1351\n",
      "[torch.cuda.FloatTensor of size 1 (GPU 0)]\n",
      ", Validation loss = \n",
      "1.00000e-02 *\n",
      "  1.3052\n",
      "[torch.cuda.FloatTensor of size 1 (GPU 0)]\n",
      "\n"
     ]
    },
    {
     "name": "stderr",
     "output_type": "stream",
     "text": [
      "100%|██████████| 30/30 [00:12<00:00,  2.47it/s]\n",
      "  0%|          | 0/30 [00:00<?, ?it/s]"
     ]
    },
    {
     "name": "stdout",
     "output_type": "stream",
     "text": [
      "Training loss = \n",
      " 0.1310\n",
      "[torch.cuda.FloatTensor of size 1 (GPU 0)]\n",
      ", Validation loss = \n",
      "1.00000e-02 *\n",
      "  1.1691\n",
      "[torch.cuda.FloatTensor of size 1 (GPU 0)]\n",
      "\n"
     ]
    },
    {
     "name": "stderr",
     "output_type": "stream",
     "text": [
      "100%|██████████| 30/30 [00:12<00:00,  2.47it/s]\n",
      "  0%|          | 0/30 [00:00<?, ?it/s]"
     ]
    },
    {
     "name": "stdout",
     "output_type": "stream",
     "text": [
      "Training loss = \n",
      " 0.1150\n",
      "[torch.cuda.FloatTensor of size 1 (GPU 0)]\n",
      ", Validation loss = \n",
      "1.00000e-02 *\n",
      "  1.0610\n",
      "[torch.cuda.FloatTensor of size 1 (GPU 0)]\n",
      "\n"
     ]
    },
    {
     "name": "stderr",
     "output_type": "stream",
     "text": [
      "100%|██████████| 30/30 [00:12<00:00,  2.47it/s]\n",
      "  0%|          | 0/30 [00:00<?, ?it/s]"
     ]
    },
    {
     "name": "stdout",
     "output_type": "stream",
     "text": [
      "Training loss = \n",
      " 0.1209\n",
      "[torch.cuda.FloatTensor of size 1 (GPU 0)]\n",
      ", Validation loss = \n",
      "1.00000e-02 *\n",
      "  1.0875\n",
      "[torch.cuda.FloatTensor of size 1 (GPU 0)]\n",
      "\n"
     ]
    },
    {
     "name": "stderr",
     "output_type": "stream",
     "text": [
      "100%|██████████| 30/30 [00:12<00:00,  2.47it/s]\n",
      "  0%|          | 0/30 [00:00<?, ?it/s]"
     ]
    },
    {
     "name": "stdout",
     "output_type": "stream",
     "text": [
      "Training loss = \n",
      " 0.1090\n",
      "[torch.cuda.FloatTensor of size 1 (GPU 0)]\n",
      ", Validation loss = \n",
      "1.00000e-02 *\n",
      "  1.1420\n",
      "[torch.cuda.FloatTensor of size 1 (GPU 0)]\n",
      "\n"
     ]
    },
    {
     "name": "stderr",
     "output_type": "stream",
     "text": [
      "100%|██████████| 30/30 [00:12<00:00,  2.47it/s]\n",
      "  0%|          | 0/30 [00:00<?, ?it/s]"
     ]
    },
    {
     "name": "stdout",
     "output_type": "stream",
     "text": [
      "Training loss = \n",
      " 0.1160\n",
      "[torch.cuda.FloatTensor of size 1 (GPU 0)]\n",
      ", Validation loss = \n",
      "1.00000e-02 *\n",
      "  1.1096\n",
      "[torch.cuda.FloatTensor of size 1 (GPU 0)]\n",
      "\n"
     ]
    },
    {
     "name": "stderr",
     "output_type": "stream",
     "text": [
      "100%|██████████| 30/30 [00:12<00:00,  2.47it/s]\n",
      "  0%|          | 0/30 [00:00<?, ?it/s]"
     ]
    },
    {
     "name": "stdout",
     "output_type": "stream",
     "text": [
      "Training loss = \n",
      " 0.1219\n",
      "[torch.cuda.FloatTensor of size 1 (GPU 0)]\n",
      ", Validation loss = \n",
      "1.00000e-02 *\n",
      "  1.0792\n",
      "[torch.cuda.FloatTensor of size 1 (GPU 0)]\n",
      "\n"
     ]
    },
    {
     "name": "stderr",
     "output_type": "stream",
     "text": [
      "100%|██████████| 30/30 [00:12<00:00,  2.47it/s]\n",
      "  0%|          | 0/30 [00:00<?, ?it/s]"
     ]
    },
    {
     "name": "stdout",
     "output_type": "stream",
     "text": [
      "Training loss = \n",
      " 0.1244\n",
      "[torch.cuda.FloatTensor of size 1 (GPU 0)]\n",
      ", Validation loss = \n",
      "1.00000e-02 *\n",
      "  1.5746\n",
      "[torch.cuda.FloatTensor of size 1 (GPU 0)]\n",
      "\n"
     ]
    },
    {
     "name": "stderr",
     "output_type": "stream",
     "text": [
      "100%|██████████| 30/30 [00:12<00:00,  2.46it/s]\n",
      "  0%|          | 0/30 [00:00<?, ?it/s]"
     ]
    },
    {
     "name": "stdout",
     "output_type": "stream",
     "text": [
      "Training loss = \n",
      " 0.1225\n",
      "[torch.cuda.FloatTensor of size 1 (GPU 0)]\n",
      ", Validation loss = \n",
      "1.00000e-03 *\n",
      "  9.0392\n",
      "[torch.cuda.FloatTensor of size 1 (GPU 0)]\n",
      "\n"
     ]
    },
    {
     "name": "stderr",
     "output_type": "stream",
     "text": [
      "100%|██████████| 30/30 [00:12<00:00,  2.47it/s]\n",
      "  0%|          | 0/30 [00:00<?, ?it/s]"
     ]
    },
    {
     "name": "stdout",
     "output_type": "stream",
     "text": [
      "Training loss = \n",
      " 0.1053\n",
      "[torch.cuda.FloatTensor of size 1 (GPU 0)]\n",
      ", Validation loss = \n",
      "1.00000e-02 *\n",
      "  1.0722\n",
      "[torch.cuda.FloatTensor of size 1 (GPU 0)]\n",
      "\n"
     ]
    },
    {
     "name": "stderr",
     "output_type": "stream",
     "text": [
      "100%|██████████| 30/30 [00:12<00:00,  2.47it/s]\n",
      "  0%|          | 0/30 [00:00<?, ?it/s]"
     ]
    },
    {
     "name": "stdout",
     "output_type": "stream",
     "text": [
      "Training loss = \n",
      " 0.1232\n",
      "[torch.cuda.FloatTensor of size 1 (GPU 0)]\n",
      ", Validation loss = \n",
      "1.00000e-03 *\n",
      "  8.6878\n",
      "[torch.cuda.FloatTensor of size 1 (GPU 0)]\n",
      "\n"
     ]
    },
    {
     "name": "stderr",
     "output_type": "stream",
     "text": [
      "100%|██████████| 30/30 [00:12<00:00,  2.47it/s]\n",
      "  0%|          | 0/30 [00:00<?, ?it/s]"
     ]
    },
    {
     "name": "stdout",
     "output_type": "stream",
     "text": [
      "Training loss = \n",
      " 0.1180\n",
      "[torch.cuda.FloatTensor of size 1 (GPU 0)]\n",
      ", Validation loss = \n",
      "1.00000e-02 *\n",
      "  1.0018\n",
      "[torch.cuda.FloatTensor of size 1 (GPU 0)]\n",
      "\n"
     ]
    },
    {
     "name": "stderr",
     "output_type": "stream",
     "text": [
      "100%|██████████| 30/30 [00:12<00:00,  2.47it/s]\n",
      "  0%|          | 0/30 [00:00<?, ?it/s]"
     ]
    },
    {
     "name": "stdout",
     "output_type": "stream",
     "text": [
      "Training loss = \n",
      " 0.1215\n",
      "[torch.cuda.FloatTensor of size 1 (GPU 0)]\n",
      ", Validation loss = \n",
      "1.00000e-02 *\n",
      "  1.0904\n",
      "[torch.cuda.FloatTensor of size 1 (GPU 0)]\n",
      "\n"
     ]
    },
    {
     "name": "stderr",
     "output_type": "stream",
     "text": [
      "100%|██████████| 30/30 [00:12<00:00,  2.47it/s]\n",
      "  0%|          | 0/30 [00:00<?, ?it/s]"
     ]
    },
    {
     "name": "stdout",
     "output_type": "stream",
     "text": [
      "Training loss = \n",
      " 0.1088\n",
      "[torch.cuda.FloatTensor of size 1 (GPU 0)]\n",
      ", Validation loss = \n",
      "1.00000e-02 *\n",
      "  1.0006\n",
      "[torch.cuda.FloatTensor of size 1 (GPU 0)]\n",
      "\n"
     ]
    },
    {
     "name": "stderr",
     "output_type": "stream",
     "text": [
      "100%|██████████| 30/30 [00:12<00:00,  2.46it/s]\n",
      "  0%|          | 0/30 [00:00<?, ?it/s]"
     ]
    },
    {
     "name": "stdout",
     "output_type": "stream",
     "text": [
      "Training loss = \n",
      " 0.1244\n",
      "[torch.cuda.FloatTensor of size 1 (GPU 0)]\n",
      ", Validation loss = \n",
      "1.00000e-02 *\n",
      "  1.1149\n",
      "[torch.cuda.FloatTensor of size 1 (GPU 0)]\n",
      "\n"
     ]
    },
    {
     "name": "stderr",
     "output_type": "stream",
     "text": [
      "100%|██████████| 30/30 [00:12<00:00,  2.47it/s]\n",
      "  0%|          | 0/30 [00:00<?, ?it/s]"
     ]
    },
    {
     "name": "stdout",
     "output_type": "stream",
     "text": [
      "Training loss = \n",
      " 0.1204\n",
      "[torch.cuda.FloatTensor of size 1 (GPU 0)]\n",
      ", Validation loss = \n",
      "1.00000e-03 *\n",
      "  8.6575\n",
      "[torch.cuda.FloatTensor of size 1 (GPU 0)]\n",
      "\n"
     ]
    },
    {
     "name": "stderr",
     "output_type": "stream",
     "text": [
      "100%|██████████| 30/30 [00:12<00:00,  2.47it/s]\n",
      "  0%|          | 0/30 [00:00<?, ?it/s]"
     ]
    },
    {
     "name": "stdout",
     "output_type": "stream",
     "text": [
      "Training loss = \n",
      " 0.1170\n",
      "[torch.cuda.FloatTensor of size 1 (GPU 0)]\n",
      ", Validation loss = \n",
      "1.00000e-02 *\n",
      "  1.0347\n",
      "[torch.cuda.FloatTensor of size 1 (GPU 0)]\n",
      "\n"
     ]
    },
    {
     "name": "stderr",
     "output_type": "stream",
     "text": [
      "100%|██████████| 30/30 [00:12<00:00,  2.47it/s]\n",
      "  0%|          | 0/30 [00:00<?, ?it/s]"
     ]
    },
    {
     "name": "stdout",
     "output_type": "stream",
     "text": [
      "Training loss = \n",
      " 0.1174\n",
      "[torch.cuda.FloatTensor of size 1 (GPU 0)]\n",
      ", Validation loss = \n",
      "1.00000e-03 *\n",
      "  9.2712\n",
      "[torch.cuda.FloatTensor of size 1 (GPU 0)]\n",
      "\n"
     ]
    },
    {
     "name": "stderr",
     "output_type": "stream",
     "text": [
      "100%|██████████| 30/30 [00:12<00:00,  2.47it/s]\n",
      "  0%|          | 0/30 [00:00<?, ?it/s]"
     ]
    },
    {
     "name": "stdout",
     "output_type": "stream",
     "text": [
      "Training loss = \n",
      " 0.1043\n",
      "[torch.cuda.FloatTensor of size 1 (GPU 0)]\n",
      ", Validation loss = \n",
      "1.00000e-03 *\n",
      "  9.2542\n",
      "[torch.cuda.FloatTensor of size 1 (GPU 0)]\n",
      "\n"
     ]
    },
    {
     "name": "stderr",
     "output_type": "stream",
     "text": [
      "100%|██████████| 30/30 [00:12<00:00,  2.47it/s]\n",
      "  0%|          | 0/30 [00:00<?, ?it/s]"
     ]
    },
    {
     "name": "stdout",
     "output_type": "stream",
     "text": [
      "Training loss = \n",
      " 0.1135\n",
      "[torch.cuda.FloatTensor of size 1 (GPU 0)]\n",
      ", Validation loss = \n",
      "1.00000e-02 *\n",
      "  1.1059\n",
      "[torch.cuda.FloatTensor of size 1 (GPU 0)]\n",
      "\n"
     ]
    },
    {
     "name": "stderr",
     "output_type": "stream",
     "text": [
      "100%|██████████| 30/30 [00:12<00:00,  2.47it/s]\n",
      "  0%|          | 0/30 [00:00<?, ?it/s]"
     ]
    },
    {
     "name": "stdout",
     "output_type": "stream",
     "text": [
      "Training loss = \n",
      " 0.1226\n",
      "[torch.cuda.FloatTensor of size 1 (GPU 0)]\n",
      ", Validation loss = \n",
      "1.00000e-03 *\n",
      "  9.7212\n",
      "[torch.cuda.FloatTensor of size 1 (GPU 0)]\n",
      "\n"
     ]
    },
    {
     "name": "stderr",
     "output_type": "stream",
     "text": [
      "100%|██████████| 30/30 [00:12<00:00,  2.46it/s]\n",
      "  0%|          | 0/30 [00:00<?, ?it/s]"
     ]
    },
    {
     "name": "stdout",
     "output_type": "stream",
     "text": [
      "Training loss = \n",
      " 0.1190\n",
      "[torch.cuda.FloatTensor of size 1 (GPU 0)]\n",
      ", Validation loss = \n",
      "1.00000e-03 *\n",
      "  9.0508\n",
      "[torch.cuda.FloatTensor of size 1 (GPU 0)]\n",
      "\n"
     ]
    },
    {
     "name": "stderr",
     "output_type": "stream",
     "text": [
      "100%|██████████| 30/30 [00:12<00:00,  2.47it/s]\n",
      "  0%|          | 0/30 [00:00<?, ?it/s]"
     ]
    },
    {
     "name": "stdout",
     "output_type": "stream",
     "text": [
      "Training loss = \n",
      " 0.1112\n",
      "[torch.cuda.FloatTensor of size 1 (GPU 0)]\n",
      ", Validation loss = \n",
      "1.00000e-03 *\n",
      "  7.6686\n",
      "[torch.cuda.FloatTensor of size 1 (GPU 0)]\n",
      "\n"
     ]
    },
    {
     "name": "stderr",
     "output_type": "stream",
     "text": [
      "100%|██████████| 30/30 [00:12<00:00,  2.47it/s]\n",
      "  0%|          | 0/30 [00:00<?, ?it/s]"
     ]
    },
    {
     "name": "stdout",
     "output_type": "stream",
     "text": [
      "Training loss = \n",
      " 0.1125\n",
      "[torch.cuda.FloatTensor of size 1 (GPU 0)]\n",
      ", Validation loss = \n",
      "1.00000e-03 *\n",
      "  9.5593\n",
      "[torch.cuda.FloatTensor of size 1 (GPU 0)]\n",
      "\n"
     ]
    },
    {
     "name": "stderr",
     "output_type": "stream",
     "text": [
      "100%|██████████| 30/30 [00:12<00:00,  2.47it/s]\n",
      "  0%|          | 0/30 [00:00<?, ?it/s]"
     ]
    },
    {
     "name": "stdout",
     "output_type": "stream",
     "text": [
      "Training loss = \n",
      " 0.1170\n",
      "[torch.cuda.FloatTensor of size 1 (GPU 0)]\n",
      ", Validation loss = \n",
      "1.00000e-02 *\n",
      "  1.0296\n",
      "[torch.cuda.FloatTensor of size 1 (GPU 0)]\n",
      "\n"
     ]
    },
    {
     "name": "stderr",
     "output_type": "stream",
     "text": [
      "100%|██████████| 30/30 [00:12<00:00,  2.47it/s]\n",
      "  0%|          | 0/30 [00:00<?, ?it/s]"
     ]
    },
    {
     "name": "stdout",
     "output_type": "stream",
     "text": [
      "Training loss = \n",
      " 0.1120\n",
      "[torch.cuda.FloatTensor of size 1 (GPU 0)]\n",
      ", Validation loss = \n",
      "1.00000e-02 *\n",
      "  1.1323\n",
      "[torch.cuda.FloatTensor of size 1 (GPU 0)]\n",
      "\n"
     ]
    },
    {
     "name": "stderr",
     "output_type": "stream",
     "text": [
      "100%|██████████| 30/30 [00:12<00:00,  2.47it/s]\n",
      "  0%|          | 0/30 [00:00<?, ?it/s]"
     ]
    },
    {
     "name": "stdout",
     "output_type": "stream",
     "text": [
      "Training loss = \n",
      " 0.1193\n",
      "[torch.cuda.FloatTensor of size 1 (GPU 0)]\n",
      ", Validation loss = \n",
      "1.00000e-02 *\n",
      "  1.0798\n",
      "[torch.cuda.FloatTensor of size 1 (GPU 0)]\n",
      "\n"
     ]
    },
    {
     "name": "stderr",
     "output_type": "stream",
     "text": [
      "100%|██████████| 30/30 [00:12<00:00,  2.47it/s]\n",
      "  0%|          | 0/30 [00:00<?, ?it/s]"
     ]
    },
    {
     "name": "stdout",
     "output_type": "stream",
     "text": [
      "Training loss = \n",
      " 0.1219\n",
      "[torch.cuda.FloatTensor of size 1 (GPU 0)]\n",
      ", Validation loss = \n",
      "1.00000e-02 *\n",
      "  1.0319\n",
      "[torch.cuda.FloatTensor of size 1 (GPU 0)]\n",
      "\n"
     ]
    },
    {
     "name": "stderr",
     "output_type": "stream",
     "text": [
      "100%|██████████| 30/30 [00:12<00:00,  2.34it/s]\n",
      "  0%|          | 0/30 [00:00<?, ?it/s]"
     ]
    },
    {
     "name": "stdout",
     "output_type": "stream",
     "text": [
      "Training loss = \n",
      " 0.1201\n",
      "[torch.cuda.FloatTensor of size 1 (GPU 0)]\n",
      ", Validation loss = \n",
      "1.00000e-02 *\n",
      "  1.0990\n",
      "[torch.cuda.FloatTensor of size 1 (GPU 0)]\n",
      "\n"
     ]
    },
    {
     "name": "stderr",
     "output_type": "stream",
     "text": [
      "100%|██████████| 30/30 [00:12<00:00,  2.48it/s]\n",
      "  0%|          | 0/30 [00:00<?, ?it/s]"
     ]
    },
    {
     "name": "stdout",
     "output_type": "stream",
     "text": [
      "Training loss = \n",
      " 0.1145\n",
      "[torch.cuda.FloatTensor of size 1 (GPU 0)]\n",
      ", Validation loss = \n",
      "1.00000e-02 *\n",
      "  1.0207\n",
      "[torch.cuda.FloatTensor of size 1 (GPU 0)]\n",
      "\n"
     ]
    },
    {
     "name": "stderr",
     "output_type": "stream",
     "text": [
      "100%|██████████| 30/30 [00:12<00:00,  2.47it/s]\n",
      "  0%|          | 0/30 [00:00<?, ?it/s]"
     ]
    },
    {
     "name": "stdout",
     "output_type": "stream",
     "text": [
      "Training loss = \n",
      " 0.1275\n",
      "[torch.cuda.FloatTensor of size 1 (GPU 0)]\n",
      ", Validation loss = \n",
      "1.00000e-02 *\n",
      "  1.4154\n",
      "[torch.cuda.FloatTensor of size 1 (GPU 0)]\n",
      "\n"
     ]
    },
    {
     "name": "stderr",
     "output_type": "stream",
     "text": [
      "100%|██████████| 30/30 [00:12<00:00,  2.46it/s]\n",
      "  0%|          | 0/30 [00:00<?, ?it/s]"
     ]
    },
    {
     "name": "stdout",
     "output_type": "stream",
     "text": [
      "Training loss = \n",
      " 0.1141\n",
      "[torch.cuda.FloatTensor of size 1 (GPU 0)]\n",
      ", Validation loss = \n",
      "1.00000e-03 *\n",
      "  7.7625\n",
      "[torch.cuda.FloatTensor of size 1 (GPU 0)]\n",
      "\n"
     ]
    },
    {
     "name": "stderr",
     "output_type": "stream",
     "text": [
      "100%|██████████| 30/30 [00:12<00:00,  2.47it/s]\n",
      "  0%|          | 0/30 [00:00<?, ?it/s]"
     ]
    },
    {
     "name": "stdout",
     "output_type": "stream",
     "text": [
      "Training loss = \n",
      " 0.1110\n",
      "[torch.cuda.FloatTensor of size 1 (GPU 0)]\n",
      ", Validation loss = \n",
      "1.00000e-03 *\n",
      "  9.2743\n",
      "[torch.cuda.FloatTensor of size 1 (GPU 0)]\n",
      "\n"
     ]
    },
    {
     "name": "stderr",
     "output_type": "stream",
     "text": [
      "100%|██████████| 30/30 [00:12<00:00,  2.47it/s]\n",
      "  0%|          | 0/30 [00:00<?, ?it/s]"
     ]
    },
    {
     "name": "stdout",
     "output_type": "stream",
     "text": [
      "Training loss = \n",
      " 0.1137\n",
      "[torch.cuda.FloatTensor of size 1 (GPU 0)]\n",
      ", Validation loss = \n",
      "1.00000e-03 *\n",
      "  8.9390\n",
      "[torch.cuda.FloatTensor of size 1 (GPU 0)]\n",
      "\n"
     ]
    },
    {
     "name": "stderr",
     "output_type": "stream",
     "text": [
      "100%|██████████| 30/30 [00:12<00:00,  2.47it/s]\n",
      "  0%|          | 0/30 [00:00<?, ?it/s]"
     ]
    },
    {
     "name": "stdout",
     "output_type": "stream",
     "text": [
      "Training loss = \n",
      " 0.1121\n",
      "[torch.cuda.FloatTensor of size 1 (GPU 0)]\n",
      ", Validation loss = \n",
      "1.00000e-03 *\n",
      "  9.5949\n",
      "[torch.cuda.FloatTensor of size 1 (GPU 0)]\n",
      "\n"
     ]
    },
    {
     "name": "stderr",
     "output_type": "stream",
     "text": [
      "100%|██████████| 30/30 [00:12<00:00,  2.48it/s]\n",
      "  0%|          | 0/30 [00:00<?, ?it/s]"
     ]
    },
    {
     "name": "stdout",
     "output_type": "stream",
     "text": [
      "Training loss = \n",
      " 0.1127\n",
      "[torch.cuda.FloatTensor of size 1 (GPU 0)]\n",
      ", Validation loss = \n",
      "1.00000e-03 *\n",
      "  9.2263\n",
      "[torch.cuda.FloatTensor of size 1 (GPU 0)]\n",
      "\n"
     ]
    },
    {
     "name": "stderr",
     "output_type": "stream",
     "text": [
      "100%|██████████| 30/30 [00:12<00:00,  2.47it/s]\n",
      "  0%|          | 0/30 [00:00<?, ?it/s]"
     ]
    },
    {
     "name": "stdout",
     "output_type": "stream",
     "text": [
      "Training loss = \n",
      " 0.1113\n",
      "[torch.cuda.FloatTensor of size 1 (GPU 0)]\n",
      ", Validation loss = \n",
      "1.00000e-02 *\n",
      "  1.1537\n",
      "[torch.cuda.FloatTensor of size 1 (GPU 0)]\n",
      "\n"
     ]
    },
    {
     "name": "stderr",
     "output_type": "stream",
     "text": [
      "100%|██████████| 30/30 [00:12<00:00,  2.47it/s]\n",
      "  0%|          | 0/30 [00:00<?, ?it/s]"
     ]
    },
    {
     "name": "stdout",
     "output_type": "stream",
     "text": [
      "Training loss = \n",
      " 0.1188\n",
      "[torch.cuda.FloatTensor of size 1 (GPU 0)]\n",
      ", Validation loss = \n",
      "1.00000e-03 *\n",
      "  8.5646\n",
      "[torch.cuda.FloatTensor of size 1 (GPU 0)]\n",
      "\n"
     ]
    },
    {
     "name": "stderr",
     "output_type": "stream",
     "text": [
      "100%|██████████| 30/30 [00:12<00:00,  2.47it/s]\n",
      "  0%|          | 0/30 [00:00<?, ?it/s]"
     ]
    },
    {
     "name": "stdout",
     "output_type": "stream",
     "text": [
      "Training loss = \n",
      " 0.1125\n",
      "[torch.cuda.FloatTensor of size 1 (GPU 0)]\n",
      ", Validation loss = \n",
      "1.00000e-03 *\n",
      "  9.3128\n",
      "[torch.cuda.FloatTensor of size 1 (GPU 0)]\n",
      "\n"
     ]
    },
    {
     "name": "stderr",
     "output_type": "stream",
     "text": [
      "100%|██████████| 30/30 [00:12<00:00,  2.47it/s]\n",
      "  0%|          | 0/30 [00:00<?, ?it/s]"
     ]
    },
    {
     "name": "stdout",
     "output_type": "stream",
     "text": [
      "Training loss = \n",
      " 0.1071\n",
      "[torch.cuda.FloatTensor of size 1 (GPU 0)]\n",
      ", Validation loss = \n",
      "1.00000e-02 *\n",
      "  1.0518\n",
      "[torch.cuda.FloatTensor of size 1 (GPU 0)]\n",
      "\n"
     ]
    },
    {
     "name": "stderr",
     "output_type": "stream",
     "text": [
      "100%|██████████| 30/30 [00:12<00:00,  2.47it/s]\n",
      "  0%|          | 0/30 [00:00<?, ?it/s]"
     ]
    },
    {
     "name": "stdout",
     "output_type": "stream",
     "text": [
      "Training loss = \n",
      " 0.1085\n",
      "[torch.cuda.FloatTensor of size 1 (GPU 0)]\n",
      ", Validation loss = \n",
      "1.00000e-03 *\n",
      "  8.7886\n",
      "[torch.cuda.FloatTensor of size 1 (GPU 0)]\n",
      "\n"
     ]
    },
    {
     "name": "stderr",
     "output_type": "stream",
     "text": [
      "100%|██████████| 30/30 [00:12<00:00,  2.47it/s]\n",
      "  0%|          | 0/30 [00:00<?, ?it/s]"
     ]
    },
    {
     "name": "stdout",
     "output_type": "stream",
     "text": [
      "Training loss = \n",
      " 0.1120\n",
      "[torch.cuda.FloatTensor of size 1 (GPU 0)]\n",
      ", Validation loss = \n",
      "1.00000e-03 *\n",
      "  9.4938\n",
      "[torch.cuda.FloatTensor of size 1 (GPU 0)]\n",
      "\n"
     ]
    },
    {
     "name": "stderr",
     "output_type": "stream",
     "text": [
      "100%|██████████| 30/30 [00:12<00:00,  2.47it/s]\n",
      "  0%|          | 0/30 [00:00<?, ?it/s]"
     ]
    },
    {
     "name": "stdout",
     "output_type": "stream",
     "text": [
      "Training loss = \n",
      " 0.1223\n",
      "[torch.cuda.FloatTensor of size 1 (GPU 0)]\n",
      ", Validation loss = \n",
      "1.00000e-02 *\n",
      "  1.0251\n",
      "[torch.cuda.FloatTensor of size 1 (GPU 0)]\n",
      "\n"
     ]
    },
    {
     "name": "stderr",
     "output_type": "stream",
     "text": [
      "100%|██████████| 30/30 [00:12<00:00,  2.46it/s]\n",
      "  0%|          | 0/30 [00:00<?, ?it/s]"
     ]
    },
    {
     "name": "stdout",
     "output_type": "stream",
     "text": [
      "Training loss = \n",
      " 0.1062\n",
      "[torch.cuda.FloatTensor of size 1 (GPU 0)]\n",
      ", Validation loss = \n",
      "1.00000e-02 *\n",
      "  1.1211\n",
      "[torch.cuda.FloatTensor of size 1 (GPU 0)]\n",
      "\n"
     ]
    },
    {
     "name": "stderr",
     "output_type": "stream",
     "text": [
      "100%|██████████| 30/30 [00:12<00:00,  2.47it/s]\n",
      "  0%|          | 0/30 [00:00<?, ?it/s]"
     ]
    },
    {
     "name": "stdout",
     "output_type": "stream",
     "text": [
      "Training loss = \n",
      " 0.1213\n",
      "[torch.cuda.FloatTensor of size 1 (GPU 0)]\n",
      ", Validation loss = \n",
      "1.00000e-02 *\n",
      "  1.3988\n",
      "[torch.cuda.FloatTensor of size 1 (GPU 0)]\n",
      "\n"
     ]
    },
    {
     "name": "stderr",
     "output_type": "stream",
     "text": [
      "100%|██████████| 30/30 [00:12<00:00,  2.47it/s]\n",
      "  0%|          | 0/30 [00:00<?, ?it/s]"
     ]
    },
    {
     "name": "stdout",
     "output_type": "stream",
     "text": [
      "Training loss = \n",
      " 0.1270\n",
      "[torch.cuda.FloatTensor of size 1 (GPU 0)]\n",
      ", Validation loss = \n",
      "1.00000e-02 *\n",
      "  1.3187\n",
      "[torch.cuda.FloatTensor of size 1 (GPU 0)]\n",
      "\n"
     ]
    },
    {
     "name": "stderr",
     "output_type": "stream",
     "text": [
      "100%|██████████| 30/30 [00:12<00:00,  2.47it/s]\n",
      "  0%|          | 0/30 [00:00<?, ?it/s]"
     ]
    },
    {
     "name": "stdout",
     "output_type": "stream",
     "text": [
      "Training loss = \n",
      " 0.1192\n",
      "[torch.cuda.FloatTensor of size 1 (GPU 0)]\n",
      ", Validation loss = \n",
      "1.00000e-02 *\n",
      "  1.6461\n",
      "[torch.cuda.FloatTensor of size 1 (GPU 0)]\n",
      "\n"
     ]
    },
    {
     "name": "stderr",
     "output_type": "stream",
     "text": [
      "100%|██████████| 30/30 [00:12<00:00,  2.46it/s]\n",
      "  0%|          | 0/30 [00:00<?, ?it/s]"
     ]
    },
    {
     "name": "stdout",
     "output_type": "stream",
     "text": [
      "Training loss = \n",
      " 0.1194\n",
      "[torch.cuda.FloatTensor of size 1 (GPU 0)]\n",
      ", Validation loss = \n",
      "1.00000e-03 *\n",
      "  9.7198\n",
      "[torch.cuda.FloatTensor of size 1 (GPU 0)]\n",
      "\n"
     ]
    },
    {
     "name": "stderr",
     "output_type": "stream",
     "text": [
      "100%|██████████| 30/30 [00:12<00:00,  2.46it/s]\n",
      "  0%|          | 0/30 [00:00<?, ?it/s]"
     ]
    },
    {
     "name": "stdout",
     "output_type": "stream",
     "text": [
      "Training loss = \n",
      " 0.1130\n",
      "[torch.cuda.FloatTensor of size 1 (GPU 0)]\n",
      ", Validation loss = \n",
      "1.00000e-03 *\n",
      "  7.5256\n",
      "[torch.cuda.FloatTensor of size 1 (GPU 0)]\n",
      "\n"
     ]
    },
    {
     "name": "stderr",
     "output_type": "stream",
     "text": [
      "100%|██████████| 30/30 [00:12<00:00,  2.47it/s]\n",
      "  0%|          | 0/30 [00:00<?, ?it/s]"
     ]
    },
    {
     "name": "stdout",
     "output_type": "stream",
     "text": [
      "Training loss = \n",
      " 0.1150\n",
      "[torch.cuda.FloatTensor of size 1 (GPU 0)]\n",
      ", Validation loss = \n",
      "1.00000e-03 *\n",
      "  8.1083\n",
      "[torch.cuda.FloatTensor of size 1 (GPU 0)]\n",
      "\n"
     ]
    },
    {
     "name": "stderr",
     "output_type": "stream",
     "text": [
      "100%|██████████| 30/30 [00:12<00:00,  2.47it/s]\n",
      "  0%|          | 0/30 [00:00<?, ?it/s]"
     ]
    },
    {
     "name": "stdout",
     "output_type": "stream",
     "text": [
      "Training loss = \n",
      " 0.1102\n",
      "[torch.cuda.FloatTensor of size 1 (GPU 0)]\n",
      ", Validation loss = \n",
      "1.00000e-03 *\n",
      "  9.5588\n",
      "[torch.cuda.FloatTensor of size 1 (GPU 0)]\n",
      "\n"
     ]
    },
    {
     "name": "stderr",
     "output_type": "stream",
     "text": [
      "100%|██████████| 30/30 [00:12<00:00,  2.47it/s]\n",
      "  0%|          | 0/30 [00:00<?, ?it/s]"
     ]
    },
    {
     "name": "stdout",
     "output_type": "stream",
     "text": [
      "Training loss = \n",
      " 0.1193\n",
      "[torch.cuda.FloatTensor of size 1 (GPU 0)]\n",
      ", Validation loss = \n",
      "1.00000e-03 *\n",
      "  7.8810\n",
      "[torch.cuda.FloatTensor of size 1 (GPU 0)]\n",
      "\n"
     ]
    },
    {
     "name": "stderr",
     "output_type": "stream",
     "text": [
      "100%|██████████| 30/30 [00:12<00:00,  2.46it/s]\n",
      "  0%|          | 0/30 [00:00<?, ?it/s]"
     ]
    },
    {
     "name": "stdout",
     "output_type": "stream",
     "text": [
      "Training loss = \n",
      " 0.1133\n",
      "[torch.cuda.FloatTensor of size 1 (GPU 0)]\n",
      ", Validation loss = \n",
      "1.00000e-03 *\n",
      "  8.8274\n",
      "[torch.cuda.FloatTensor of size 1 (GPU 0)]\n",
      "\n"
     ]
    },
    {
     "name": "stderr",
     "output_type": "stream",
     "text": [
      "100%|██████████| 30/30 [00:12<00:00,  2.47it/s]\n",
      "  0%|          | 0/30 [00:00<?, ?it/s]"
     ]
    },
    {
     "name": "stdout",
     "output_type": "stream",
     "text": [
      "Training loss = \n",
      " 0.1150\n",
      "[torch.cuda.FloatTensor of size 1 (GPU 0)]\n",
      ", Validation loss = \n",
      "1.00000e-02 *\n",
      "  1.2894\n",
      "[torch.cuda.FloatTensor of size 1 (GPU 0)]\n",
      "\n"
     ]
    },
    {
     "name": "stderr",
     "output_type": "stream",
     "text": [
      "100%|██████████| 30/30 [00:12<00:00,  2.47it/s]\n",
      "  0%|          | 0/30 [00:00<?, ?it/s]"
     ]
    },
    {
     "name": "stdout",
     "output_type": "stream",
     "text": [
      "Training loss = \n",
      " 0.1083\n",
      "[torch.cuda.FloatTensor of size 1 (GPU 0)]\n",
      ", Validation loss = \n",
      "1.00000e-02 *\n",
      "  1.3444\n",
      "[torch.cuda.FloatTensor of size 1 (GPU 0)]\n",
      "\n"
     ]
    },
    {
     "name": "stderr",
     "output_type": "stream",
     "text": [
      "100%|██████████| 30/30 [00:12<00:00,  2.47it/s]\n",
      "  0%|          | 0/30 [00:00<?, ?it/s]"
     ]
    },
    {
     "name": "stdout",
     "output_type": "stream",
     "text": [
      "Training loss = \n",
      " 0.1097\n",
      "[torch.cuda.FloatTensor of size 1 (GPU 0)]\n",
      ", Validation loss = \n",
      "1.00000e-03 *\n",
      "  7.7745\n",
      "[torch.cuda.FloatTensor of size 1 (GPU 0)]\n",
      "\n"
     ]
    },
    {
     "name": "stderr",
     "output_type": "stream",
     "text": [
      "100%|██████████| 30/30 [00:12<00:00,  2.46it/s]\n",
      "  0%|          | 0/30 [00:00<?, ?it/s]"
     ]
    },
    {
     "name": "stdout",
     "output_type": "stream",
     "text": [
      "Training loss = \n",
      " 0.1160\n",
      "[torch.cuda.FloatTensor of size 1 (GPU 0)]\n",
      ", Validation loss = \n",
      "1.00000e-03 *\n",
      "  9.8452\n",
      "[torch.cuda.FloatTensor of size 1 (GPU 0)]\n",
      "\n"
     ]
    },
    {
     "name": "stderr",
     "output_type": "stream",
     "text": [
      "100%|██████████| 30/30 [00:12<00:00,  2.47it/s]\n",
      "  0%|          | 0/30 [00:00<?, ?it/s]"
     ]
    },
    {
     "name": "stdout",
     "output_type": "stream",
     "text": [
      "Training loss = \n",
      " 0.1138\n",
      "[torch.cuda.FloatTensor of size 1 (GPU 0)]\n",
      ", Validation loss = \n",
      "1.00000e-03 *\n",
      "  9.2602\n",
      "[torch.cuda.FloatTensor of size 1 (GPU 0)]\n",
      "\n"
     ]
    },
    {
     "name": "stderr",
     "output_type": "stream",
     "text": [
      "100%|██████████| 30/30 [00:12<00:00,  2.46it/s]\n",
      "  0%|          | 0/30 [00:00<?, ?it/s]"
     ]
    },
    {
     "name": "stdout",
     "output_type": "stream",
     "text": [
      "Training loss = \n",
      " 0.1067\n",
      "[torch.cuda.FloatTensor of size 1 (GPU 0)]\n",
      ", Validation loss = \n",
      "1.00000e-02 *\n",
      "  1.0282\n",
      "[torch.cuda.FloatTensor of size 1 (GPU 0)]\n",
      "\n"
     ]
    },
    {
     "name": "stderr",
     "output_type": "stream",
     "text": [
      "100%|██████████| 30/30 [00:12<00:00,  2.46it/s]\n",
      "  0%|          | 0/30 [00:00<?, ?it/s]"
     ]
    },
    {
     "name": "stdout",
     "output_type": "stream",
     "text": [
      "Training loss = \n",
      " 0.1087\n",
      "[torch.cuda.FloatTensor of size 1 (GPU 0)]\n",
      ", Validation loss = \n",
      "1.00000e-03 *\n",
      "  7.1944\n",
      "[torch.cuda.FloatTensor of size 1 (GPU 0)]\n",
      "\n"
     ]
    },
    {
     "name": "stderr",
     "output_type": "stream",
     "text": [
      "100%|██████████| 30/30 [00:12<00:00,  2.47it/s]\n",
      "  0%|          | 0/30 [00:00<?, ?it/s]"
     ]
    },
    {
     "name": "stdout",
     "output_type": "stream",
     "text": [
      "Training loss = \n",
      " 0.1158\n",
      "[torch.cuda.FloatTensor of size 1 (GPU 0)]\n",
      ", Validation loss = \n",
      "1.00000e-03 *\n",
      "  8.1430\n",
      "[torch.cuda.FloatTensor of size 1 (GPU 0)]\n",
      "\n"
     ]
    },
    {
     "name": "stderr",
     "output_type": "stream",
     "text": [
      "100%|██████████| 30/30 [00:12<00:00,  2.47it/s]\n",
      "  0%|          | 0/30 [00:00<?, ?it/s]"
     ]
    },
    {
     "name": "stdout",
     "output_type": "stream",
     "text": [
      "Training loss = \n",
      " 0.1043\n",
      "[torch.cuda.FloatTensor of size 1 (GPU 0)]\n",
      ", Validation loss = \n",
      "1.00000e-02 *\n",
      "  1.0161\n",
      "[torch.cuda.FloatTensor of size 1 (GPU 0)]\n",
      "\n"
     ]
    },
    {
     "name": "stderr",
     "output_type": "stream",
     "text": [
      "100%|██████████| 30/30 [00:12<00:00,  2.47it/s]\n",
      "  0%|          | 0/30 [00:00<?, ?it/s]"
     ]
    },
    {
     "name": "stdout",
     "output_type": "stream",
     "text": [
      "Training loss = \n",
      " 0.1168\n",
      "[torch.cuda.FloatTensor of size 1 (GPU 0)]\n",
      ", Validation loss = \n",
      "1.00000e-03 *\n",
      "  9.6707\n",
      "[torch.cuda.FloatTensor of size 1 (GPU 0)]\n",
      "\n"
     ]
    },
    {
     "name": "stderr",
     "output_type": "stream",
     "text": [
      "100%|██████████| 30/30 [00:12<00:00,  2.46it/s]\n",
      "  0%|          | 0/30 [00:00<?, ?it/s]"
     ]
    },
    {
     "name": "stdout",
     "output_type": "stream",
     "text": [
      "Training loss = \n",
      " 0.1089\n",
      "[torch.cuda.FloatTensor of size 1 (GPU 0)]\n",
      ", Validation loss = \n",
      "1.00000e-03 *\n",
      "  8.1226\n",
      "[torch.cuda.FloatTensor of size 1 (GPU 0)]\n",
      "\n"
     ]
    },
    {
     "name": "stderr",
     "output_type": "stream",
     "text": [
      "100%|██████████| 30/30 [00:12<00:00,  2.46it/s]\n",
      "  0%|          | 0/30 [00:00<?, ?it/s]"
     ]
    },
    {
     "name": "stdout",
     "output_type": "stream",
     "text": [
      "Training loss = \n",
      " 0.1253\n",
      "[torch.cuda.FloatTensor of size 1 (GPU 0)]\n",
      ", Validation loss = \n",
      "1.00000e-03 *\n",
      "  7.4884\n",
      "[torch.cuda.FloatTensor of size 1 (GPU 0)]\n",
      "\n"
     ]
    },
    {
     "name": "stderr",
     "output_type": "stream",
     "text": [
      "100%|██████████| 30/30 [00:12<00:00,  2.46it/s]\n",
      "  0%|          | 0/30 [00:00<?, ?it/s]"
     ]
    },
    {
     "name": "stdout",
     "output_type": "stream",
     "text": [
      "Training loss = \n",
      " 0.1100\n",
      "[torch.cuda.FloatTensor of size 1 (GPU 0)]\n",
      ", Validation loss = \n",
      "1.00000e-03 *\n",
      "  8.5702\n",
      "[torch.cuda.FloatTensor of size 1 (GPU 0)]\n",
      "\n"
     ]
    },
    {
     "name": "stderr",
     "output_type": "stream",
     "text": [
      "100%|██████████| 30/30 [00:12<00:00,  2.47it/s]\n",
      "  0%|          | 0/30 [00:00<?, ?it/s]"
     ]
    },
    {
     "name": "stdout",
     "output_type": "stream",
     "text": [
      "Training loss = \n",
      " 0.1169\n",
      "[torch.cuda.FloatTensor of size 1 (GPU 0)]\n",
      ", Validation loss = \n",
      "1.00000e-03 *\n",
      "  9.4616\n",
      "[torch.cuda.FloatTensor of size 1 (GPU 0)]\n",
      "\n"
     ]
    },
    {
     "name": "stderr",
     "output_type": "stream",
     "text": [
      "100%|██████████| 30/30 [00:12<00:00,  2.46it/s]\n",
      "  0%|          | 0/30 [00:00<?, ?it/s]"
     ]
    },
    {
     "name": "stdout",
     "output_type": "stream",
     "text": [
      "Training loss = \n",
      " 0.1168\n",
      "[torch.cuda.FloatTensor of size 1 (GPU 0)]\n",
      ", Validation loss = \n",
      "1.00000e-03 *\n",
      "  8.8420\n",
      "[torch.cuda.FloatTensor of size 1 (GPU 0)]\n",
      "\n"
     ]
    },
    {
     "name": "stderr",
     "output_type": "stream",
     "text": [
      "100%|██████████| 30/30 [00:12<00:00,  2.46it/s]\n",
      "  0%|          | 0/30 [00:00<?, ?it/s]"
     ]
    },
    {
     "name": "stdout",
     "output_type": "stream",
     "text": [
      "Training loss = \n",
      " 0.1087\n",
      "[torch.cuda.FloatTensor of size 1 (GPU 0)]\n",
      ", Validation loss = \n",
      "1.00000e-03 *\n",
      "  7.6099\n",
      "[torch.cuda.FloatTensor of size 1 (GPU 0)]\n",
      "\n"
     ]
    },
    {
     "name": "stderr",
     "output_type": "stream",
     "text": [
      "100%|██████████| 30/30 [00:12<00:00,  2.47it/s]\n",
      "  0%|          | 0/30 [00:00<?, ?it/s]"
     ]
    },
    {
     "name": "stdout",
     "output_type": "stream",
     "text": [
      "Training loss = \n",
      " 0.1099\n",
      "[torch.cuda.FloatTensor of size 1 (GPU 0)]\n",
      ", Validation loss = \n",
      "1.00000e-03 *\n",
      "  6.1605\n",
      "[torch.cuda.FloatTensor of size 1 (GPU 0)]\n",
      "\n"
     ]
    },
    {
     "name": "stderr",
     "output_type": "stream",
     "text": [
      "100%|██████████| 30/30 [00:12<00:00,  2.47it/s]\n",
      "  0%|          | 0/30 [00:00<?, ?it/s]"
     ]
    },
    {
     "name": "stdout",
     "output_type": "stream",
     "text": [
      "Training loss = \n",
      " 0.1099\n",
      "[torch.cuda.FloatTensor of size 1 (GPU 0)]\n",
      ", Validation loss = \n",
      "1.00000e-03 *\n",
      "  9.0061\n",
      "[torch.cuda.FloatTensor of size 1 (GPU 0)]\n",
      "\n"
     ]
    },
    {
     "name": "stderr",
     "output_type": "stream",
     "text": [
      "100%|██████████| 30/30 [00:12<00:00,  2.46it/s]\n",
      "  0%|          | 0/30 [00:00<?, ?it/s]"
     ]
    },
    {
     "name": "stdout",
     "output_type": "stream",
     "text": [
      "Training loss = \n",
      " 0.1077\n",
      "[torch.cuda.FloatTensor of size 1 (GPU 0)]\n",
      ", Validation loss = \n",
      "1.00000e-03 *\n",
      "  8.2688\n",
      "[torch.cuda.FloatTensor of size 1 (GPU 0)]\n",
      "\n"
     ]
    },
    {
     "name": "stderr",
     "output_type": "stream",
     "text": [
      "100%|██████████| 30/30 [00:12<00:00,  2.46it/s]\n",
      "  0%|          | 0/30 [00:00<?, ?it/s]"
     ]
    },
    {
     "name": "stdout",
     "output_type": "stream",
     "text": [
      "Training loss = \n",
      " 0.1088\n",
      "[torch.cuda.FloatTensor of size 1 (GPU 0)]\n",
      ", Validation loss = \n",
      "1.00000e-02 *\n",
      "  1.1262\n",
      "[torch.cuda.FloatTensor of size 1 (GPU 0)]\n",
      "\n"
     ]
    },
    {
     "name": "stderr",
     "output_type": "stream",
     "text": [
      "100%|██████████| 30/30 [00:12<00:00,  2.47it/s]\n",
      "  0%|          | 0/30 [00:00<?, ?it/s]"
     ]
    },
    {
     "name": "stdout",
     "output_type": "stream",
     "text": [
      "Training loss = \n",
      " 0.1093\n",
      "[torch.cuda.FloatTensor of size 1 (GPU 0)]\n",
      ", Validation loss = \n",
      "1.00000e-03 *\n",
      "  7.8368\n",
      "[torch.cuda.FloatTensor of size 1 (GPU 0)]\n",
      "\n"
     ]
    },
    {
     "name": "stderr",
     "output_type": "stream",
     "text": [
      "100%|██████████| 30/30 [00:12<00:00,  2.46it/s]\n",
      "  0%|          | 0/30 [00:00<?, ?it/s]"
     ]
    },
    {
     "name": "stdout",
     "output_type": "stream",
     "text": [
      "Training loss = \n",
      " 0.1082\n",
      "[torch.cuda.FloatTensor of size 1 (GPU 0)]\n",
      ", Validation loss = \n",
      "1.00000e-03 *\n",
      "  9.8483\n",
      "[torch.cuda.FloatTensor of size 1 (GPU 0)]\n",
      "\n"
     ]
    },
    {
     "name": "stderr",
     "output_type": "stream",
     "text": [
      "100%|██████████| 30/30 [00:12<00:00,  2.47it/s]\n",
      "  0%|          | 0/30 [00:00<?, ?it/s]"
     ]
    },
    {
     "name": "stdout",
     "output_type": "stream",
     "text": [
      "Training loss = \n",
      " 0.1118\n",
      "[torch.cuda.FloatTensor of size 1 (GPU 0)]\n",
      ", Validation loss = \n",
      "1.00000e-03 *\n",
      "  8.3455\n",
      "[torch.cuda.FloatTensor of size 1 (GPU 0)]\n",
      "\n"
     ]
    },
    {
     "name": "stderr",
     "output_type": "stream",
     "text": [
      "100%|██████████| 30/30 [00:12<00:00,  2.46it/s]\n",
      "  0%|          | 0/30 [00:00<?, ?it/s]"
     ]
    },
    {
     "name": "stdout",
     "output_type": "stream",
     "text": [
      "Training loss = \n",
      " 0.1053\n",
      "[torch.cuda.FloatTensor of size 1 (GPU 0)]\n",
      ", Validation loss = \n",
      "1.00000e-03 *\n",
      "  6.7358\n",
      "[torch.cuda.FloatTensor of size 1 (GPU 0)]\n",
      "\n"
     ]
    },
    {
     "name": "stderr",
     "output_type": "stream",
     "text": [
      "100%|██████████| 30/30 [00:12<00:00,  2.47it/s]\n",
      "  0%|          | 0/30 [00:00<?, ?it/s]"
     ]
    },
    {
     "name": "stdout",
     "output_type": "stream",
     "text": [
      "Training loss = \n",
      " 0.1068\n",
      "[torch.cuda.FloatTensor of size 1 (GPU 0)]\n",
      ", Validation loss = \n",
      "1.00000e-02 *\n",
      "  1.1259\n",
      "[torch.cuda.FloatTensor of size 1 (GPU 0)]\n",
      "\n"
     ]
    },
    {
     "name": "stderr",
     "output_type": "stream",
     "text": [
      "100%|██████████| 30/30 [00:12<00:00,  2.47it/s]\n",
      "  0%|          | 0/30 [00:00<?, ?it/s]"
     ]
    },
    {
     "name": "stdout",
     "output_type": "stream",
     "text": [
      "Training loss = \n",
      " 0.1105\n",
      "[torch.cuda.FloatTensor of size 1 (GPU 0)]\n",
      ", Validation loss = \n",
      "1.00000e-02 *\n",
      "  1.0319\n",
      "[torch.cuda.FloatTensor of size 1 (GPU 0)]\n",
      "\n"
     ]
    },
    {
     "name": "stderr",
     "output_type": "stream",
     "text": [
      "100%|██████████| 30/30 [00:12<00:00,  2.47it/s]\n",
      "  0%|          | 0/30 [00:00<?, ?it/s]"
     ]
    },
    {
     "name": "stdout",
     "output_type": "stream",
     "text": [
      "Training loss = \n",
      " 0.1097\n",
      "[torch.cuda.FloatTensor of size 1 (GPU 0)]\n",
      ", Validation loss = \n",
      "1.00000e-03 *\n",
      "  7.9261\n",
      "[torch.cuda.FloatTensor of size 1 (GPU 0)]\n",
      "\n"
     ]
    },
    {
     "name": "stderr",
     "output_type": "stream",
     "text": [
      "100%|██████████| 30/30 [00:12<00:00,  2.46it/s]\n",
      "  0%|          | 0/30 [00:00<?, ?it/s]"
     ]
    },
    {
     "name": "stdout",
     "output_type": "stream",
     "text": [
      "Training loss = \n",
      " 0.1116\n",
      "[torch.cuda.FloatTensor of size 1 (GPU 0)]\n",
      ", Validation loss = \n",
      "1.00000e-03 *\n",
      "  9.9875\n",
      "[torch.cuda.FloatTensor of size 1 (GPU 0)]\n",
      "\n"
     ]
    },
    {
     "name": "stderr",
     "output_type": "stream",
     "text": [
      "100%|██████████| 30/30 [00:12<00:00,  2.46it/s]\n",
      "  0%|          | 0/30 [00:00<?, ?it/s]"
     ]
    },
    {
     "name": "stdout",
     "output_type": "stream",
     "text": [
      "Training loss = \n",
      " 0.1229\n",
      "[torch.cuda.FloatTensor of size 1 (GPU 0)]\n",
      ", Validation loss = \n",
      "1.00000e-03 *\n",
      "  7.2251\n",
      "[torch.cuda.FloatTensor of size 1 (GPU 0)]\n",
      "\n"
     ]
    },
    {
     "name": "stderr",
     "output_type": "stream",
     "text": [
      "100%|██████████| 30/30 [00:12<00:00,  2.47it/s]\n",
      "  0%|          | 0/30 [00:00<?, ?it/s]"
     ]
    },
    {
     "name": "stdout",
     "output_type": "stream",
     "text": [
      "Training loss = \n",
      " 0.1080\n",
      "[torch.cuda.FloatTensor of size 1 (GPU 0)]\n",
      ", Validation loss = \n",
      "1.00000e-02 *\n",
      "  1.1056\n",
      "[torch.cuda.FloatTensor of size 1 (GPU 0)]\n",
      "\n"
     ]
    },
    {
     "name": "stderr",
     "output_type": "stream",
     "text": [
      "100%|██████████| 30/30 [00:12<00:00,  2.48it/s]\n",
      "  0%|          | 0/30 [00:00<?, ?it/s]"
     ]
    },
    {
     "name": "stdout",
     "output_type": "stream",
     "text": [
      "Training loss = \n",
      " 0.1108\n",
      "[torch.cuda.FloatTensor of size 1 (GPU 0)]\n",
      ", Validation loss = \n",
      "1.00000e-03 *\n",
      "  6.9040\n",
      "[torch.cuda.FloatTensor of size 1 (GPU 0)]\n",
      "\n"
     ]
    },
    {
     "name": "stderr",
     "output_type": "stream",
     "text": [
      "100%|██████████| 30/30 [00:12<00:00,  2.47it/s]\n",
      "  0%|          | 0/30 [00:00<?, ?it/s]"
     ]
    },
    {
     "name": "stdout",
     "output_type": "stream",
     "text": [
      "Training loss = \n",
      " 0.1023\n",
      "[torch.cuda.FloatTensor of size 1 (GPU 0)]\n",
      ", Validation loss = \n",
      "1.00000e-03 *\n",
      "  5.8239\n",
      "[torch.cuda.FloatTensor of size 1 (GPU 0)]\n",
      "\n"
     ]
    },
    {
     "name": "stderr",
     "output_type": "stream",
     "text": [
      "100%|██████████| 30/30 [00:12<00:00,  2.47it/s]\n",
      "  0%|          | 0/30 [00:00<?, ?it/s]"
     ]
    },
    {
     "name": "stdout",
     "output_type": "stream",
     "text": [
      "Training loss = \n",
      " 0.1197\n",
      "[torch.cuda.FloatTensor of size 1 (GPU 0)]\n",
      ", Validation loss = \n",
      "1.00000e-03 *\n",
      "  9.6048\n",
      "[torch.cuda.FloatTensor of size 1 (GPU 0)]\n",
      "\n"
     ]
    },
    {
     "name": "stderr",
     "output_type": "stream",
     "text": [
      "100%|██████████| 30/30 [00:12<00:00,  2.46it/s]\n"
     ]
    },
    {
     "name": "stdout",
     "output_type": "stream",
     "text": [
      "Training loss = \n",
      " 0.1094\n",
      "[torch.cuda.FloatTensor of size 1 (GPU 0)]\n",
      ", Validation loss = \n",
      "1.00000e-02 *\n",
      "  1.2021\n",
      "[torch.cuda.FloatTensor of size 1 (GPU 0)]\n",
      "\n"
     ]
    }
   ],
   "source": [
    "trainer.train()"
   ]
  },
  {
   "cell_type": "code",
   "execution_count": 7,
   "metadata": {},
   "outputs": [],
   "source": [
    "m = trainer.architecture"
   ]
  },
  {
   "cell_type": "code",
   "execution_count": 8,
   "metadata": {},
   "outputs": [],
   "source": [
    "from data import NoisyDataset"
   ]
  },
  {
   "cell_type": "code",
   "execution_count": 9,
   "metadata": {},
   "outputs": [],
   "source": [
    "from torch.utils.data import DataLoader"
   ]
  },
  {
   "cell_type": "code",
   "execution_count": 39,
   "metadata": {},
   "outputs": [],
   "source": [
    "data_ = NoisyDataset('dataset/train', crop_size=128, clean_targ=True) # Default gaussian noise without clean targets"
   ]
  },
  {
   "cell_type": "code",
   "execution_count": 40,
   "metadata": {},
   "outputs": [],
   "source": [
    "dl = DataLoader(data_, batch_size=1, shuffle=True)"
   ]
  },
  {
   "cell_type": "code",
   "execution_count": 41,
   "metadata": {},
   "outputs": [],
   "source": [
    "import matplotlib.pyplot as plt"
   ]
  },
  {
   "cell_type": "code",
   "execution_count": 42,
   "metadata": {},
   "outputs": [],
   "source": [
    "import torch\n",
    "import numpy as np\n",
    "from torch.autograd import Variable"
   ]
  },
  {
   "cell_type": "code",
   "execution_count": 43,
   "metadata": {},
   "outputs": [],
   "source": [
    "def show(img, a):\n",
    "    plt.figure()\n",
    "    if a == 'v':\n",
    "        npimg = torch.squeeze(img).data.cpu().numpy()\n",
    "    else:\n",
    "        npimg = torch.squeeze(img).numpy()\n",
    "    plt.imshow(np.transpose(npimg, (1,2,0)))"
   ]
  },
  {
   "cell_type": "code",
   "execution_count": 79,
   "metadata": {},
   "outputs": [
    {
     "name": "stderr",
     "output_type": "stream",
     "text": [
      "Clipping input data to the valid range for imshow with RGB data ([0..1] for floats or [0..255] for integers).\n"
     ]
    },
    {
     "data": {
      "text/plain": [
       "<Figure size 432x288 with 0 Axes>"
      ]
     },
     "metadata": {},
     "output_type": "display_data"
    },
    {
     "data": {
      "image/png": "[encoded data removed]",
      "text/plain": [
       "<Figure size 432x288 with 1 Axes>"
      ]
     },
     "metadata": {},
     "output_type": "display_data"
    },
    {
     "data": {
      "image/png": "[encoded data removed]",
      "text/plain": [
       "<Figure size 432x288 with 1 Axes>"
      ]
     },
     "metadata": {},
     "output_type": "display_data"
    },
    {
     "data": {
      "image/png": "[encoded data removed]",
      "text/plain": [
       "<Figure size 432x288 with 1 Axes>"
      ]
     },
     "metadata": {},
     "output_type": "display_data"
    }
   ],
   "source": [
    "i = 0\n",
    "for (source, target) in dl:\n",
    "    plt.figure()\n",
    "    pred = m(Variable(source.cuda()))\n",
    "    show(pred, 'v')\n",
    "    show(source, 't')\n",
    "    show(target, 't')\n",
    "    if i == 0:\n",
    "        break"
   ]
  },
  {
   "cell_type": "code",
   "execution_count": null,
   "metadata": {},
   "outputs": [],
   "source": []
  },
  {
   "cell_type": "code",
   "execution_count": null,
   "metadata": {},
   "outputs": [],
   "source": []
  }
 ],
 "metadata": {
  "kernelspec": {
   "display_name": "Python 3",
   "language": "python",
   "name": "python3"
  },
  "language_info": {
   "codemirror_mode": {
    "name": "ipython",
    "version": 3
   },
   "file_extension": ".py",
   "mimetype": "text/x-python",
   "name": "python",
   "nbconvert_exporter": "python",
   "pygments_lexer": "ipython3",
   "version": "3.6.6"
  }
 },
 "nbformat": 4,
 "nbformat_minor": 2
}
